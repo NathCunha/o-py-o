{
  "cells": [
    {
      "cell_type": "markdown",
      "metadata": {
        "id": "ejf53QXCleq_"
      },
      "source": [
        "<img src=\"https://github.com/NathCunha/o-py-o/blob/master/imagens/3.png?raw=1\">\n",
        "\n",
        "## Revisando o conteúdo da semana!"
      ]
    },
    {
      "cell_type": "markdown",
      "metadata": {
        "id": "WiTdSijTlerB"
      },
      "source": [
        "1) Faça um algoritmo que solicite a entrada de um número e exiba o dia da semana correspondente (1-Domingo, 2- Segunda,...,7-Sábado), se receber um outro valor a mensagem \"Valor inválido\" deverá ser exibida."
      ]
    },
    {
      "cell_type": "code",
      "execution_count": 3,
      "metadata": {
        "id": "J2jBLJf5lerC",
        "outputId": "c376bf5a-9cf4-4858-b9b3-e413510fe9b6",
        "colab": {
          "base_uri": "https://localhost:8080/"
        }
      },
      "outputs": [
        {
          "output_type": "stream",
          "name": "stdout",
          "text": [
            "Digite um número para exibir o dia da semana correspondente:\n",
            "9\n",
            "\n",
            "Valor inválido!\n",
            "\n",
            "---FIM---\n"
          ]
        }
      ],
      "source": [
        "day_week = int(input('Digite um número para exibir o dia da semana correspondente:\\n'))\n",
        "if day_week==1:\n",
        "  print(\"\\nO dia da semana é Domingo!\")\n",
        "elif day_week==2:\n",
        "  print(\"\\nO dia da semana é Segunda!\")\n",
        "elif day_week==3:\n",
        "  print(\"\\nO dia da semana é Terça!\")\n",
        "elif day_week==4:\n",
        "  print(\"\\nO dia da semana é Quarta!\")\n",
        "elif day_week==5:\n",
        "  print(\"\\nO dia da semana é Quinta!\")\n",
        "elif day_week==6:\n",
        "  print(\"\\nO dia da semana é Sexta!\")\n",
        "elif day_week==7:\n",
        "  print(\"\\nO dia da semana é Sábado!\")\n",
        "else:\n",
        "  print(\"\\nValor inválido!\")\n",
        "print(\"\\n---FIM---\")\n"
      ]
    },
    {
      "cell_type": "code",
      "execution_count": 16,
      "metadata": {
        "id": "zRi3X0aalerE",
        "outputId": "0c49db66-daa0-454c-b4aa-9803d302ab6f",
        "colab": {
          "base_uri": "https://localhost:8080/"
        }
      },
      "outputs": [
        {
          "output_type": "stream",
          "name": "stdout",
          "text": [
            "Qual o ano do seu nascimento?\n",
            "2010\n",
            "\n",
            "Você completará 18 anos em: 2028\n"
          ]
        }
      ],
      "source": [
        "ano_nasceu = int(input(\"Qual o ano do seu nascimento?\\n\"))\n",
        "ano_atual = 2022\n",
        "idade = ano_atual - ano_nasceu\n",
        "\n",
        "if idade >= 18:\n",
        "  maioridade = ano_nasceu+18\n",
        "  print(\"\\nVocê fez 18 anos em:\", maioridade)\n",
        "else:\n",
        "  maioridade = (18 - idade)+ ano_atual\n",
        "  print(\"\\nVocê completará 18 anos em:\", maioridade)\n"
      ]
    },
    {
      "cell_type": "markdown",
      "metadata": {
        "id": "4TQwnF1KlerE"
      },
      "source": [
        "3) Faça um algoritmo que solicite as 3 notas da usuária, calcule a média e indique se a aluna foi aprovada ou reprovada (nota precisar ser **maior ou igual** à 7 para a aluna ser aprovada)."
      ]
    },
    {
      "cell_type": "code",
      "execution_count": 21,
      "metadata": {
        "id": "JWT8pheHlerF",
        "outputId": "7bfe8903-2904-4218-e083-ad37eb1c425f",
        "colab": {
          "base_uri": "https://localhost:8080/"
        }
      },
      "outputs": [
        {
          "output_type": "stream",
          "name": "stdout",
          "text": [
            "Digite sua primeira nota: 7\n",
            "Digite sua segunda nota: 8.3\n",
            "Digite sua terceira e última nota: 9.5\n",
            "\n",
            "Aprovada, parabéns! Sua média foi: 8.266666666666667\n"
          ]
        }
      ],
      "source": [
        "nota_1 = float(input(\"Digite sua primeira nota: \"))\n",
        "nota_2 = float(input(\"Digite sua segunda nota: \"))\n",
        "nota_3 = float(input(\"Digite sua terceira e última nota: \"))\n",
        "media = (nota_1+nota_2+nota_3)/3\n",
        "\n",
        "if media >= 7:\n",
        "  print(\"\\nAprovada, parabéns! Sua média foi:\", media)\n",
        "else:\n",
        "  print(\"\\nInfelizmente você reprovou, sua media foi:\", media)"
      ]
    },
    {
      "cell_type": "markdown",
      "metadata": {
        "id": "oPgTU9fvlerG"
      },
      "source": [
        "4) Faça um algoritmo que pergunte a idade da usuária e depois disso exiba a classificação etária de acordo com as faixas de valores:\n",
        "    \n",
        "- Criança para 0 até 11 anos;\n",
        "- Adolescente para 12 até 18 anos;\n",
        "- Jovem para 19 até 24 anos;\n",
        "- Adulto para 25 até 40 anos;\n",
        "- Meia Idade para 41 até 60 anos;\n",
        "- Idoso acima de 60 anos."
      ]
    },
    {
      "cell_type": "code",
      "execution_count": 25,
      "metadata": {
        "id": "Uo-jzw1WlerG",
        "outputId": "430f70ca-eefc-43d1-e9f4-0a114b506560",
        "colab": {
          "base_uri": "https://localhost:8080/"
        }
      },
      "outputs": [
        {
          "output_type": "stream",
          "name": "stdout",
          "text": [
            "Qual a sua idade?\n",
            "22\n",
            "Jovem\n"
          ]
        }
      ],
      "source": [
        "idade = int(input(\"Qual a sua idade?\\n\"))\n",
        "\n",
        "if 0 <= idade <= 11:\n",
        "  print(\"Criança\")\n",
        "elif 12 <= idade <= 18:\n",
        "  print(\"Adolescente\")\n",
        "elif 19 <= idade <= 24:\n",
        "  print(\"Jovem\")\n",
        "elif 25 <= idade <= 40:\n",
        "  print(\"Adulto\")\n",
        "elif 41 <= idade <= 60:\n",
        "  print(\"Meia Idade\")\n",
        "else:\n",
        "  print(\"Idoso\")"
      ]
    },
    {
      "cell_type": "markdown",
      "metadata": {
        "id": "g7T-kAu3lerH"
      },
      "source": [
        "> ##### Você sabe como Python diferencia \"PyLadies\" de \"Pyladies\"? Dá só uma olhada nisso: [Comparação de Strings em Python - eXcript](http://excript.com/python/comparacao-de-string-python.html)"
      ]
    },
    {
      "cell_type": "markdown",
      "metadata": {
        "id": "XK2BvPQVlerH"
      },
      "source": [
        "4) Faça um programa que solicite a entrada de dois nomes e imprima uma mensagem informando se eles são iguais ou não.\n",
        "\n",
        "\n",
        "> ##### Dica: cuidado com o int no `input()`"
      ]
    },
    {
      "cell_type": "code",
      "execution_count": 28,
      "metadata": {
        "id": "0uFrjdCclerI",
        "outputId": "a805964b-46cc-43b8-f1f8-c59f554bd7ba",
        "colab": {
          "base_uri": "https://localhost:8080/"
        }
      },
      "outputs": [
        {
          "output_type": "stream",
          "name": "stdout",
          "text": [
            "Digite o primeiro nome para a comparação:\n",
            "Ana\n",
            "Digite o segundo nome para a comparação:\n",
            "Ana\n",
            "Os nomes digitados são iguais\n"
          ]
        }
      ],
      "source": [
        "nome1 = input(\"Digite o primeiro nome para a comparação:\\n\")\n",
        "nome2 = input(\"Digite o segundo nome para a comparação:\\n\")\n",
        "\n",
        "if nome1==nome2:\n",
        "  print('Os nomes digitados são iguais')\n",
        "else:\n",
        " print('Os nomes digitados Não são iguais')"
      ]
    },
    {
      "cell_type": "markdown",
      "metadata": {
        "id": "ydcLWmQAlerJ"
      },
      "source": [
        "---\n",
        "\n",
        "## Quais são as outras formas de praticar esses conceitos?\n",
        "\n",
        "<img src=\"https://media.giphy.com/media/LqZZp4y9ANZIcQzuXC/giphy.gif\" align=\"left\">"
      ]
    },
    {
      "cell_type": "code",
      "execution_count": null,
      "metadata": {
        "id": "Rw3LTtxnlerK"
      },
      "outputs": [],
      "source": [
        "<Adicionar atividade de sua preferência para aplicação dos conceitos>"
      ]
    }
  ],
  "metadata": {
    "kernelspec": {
      "display_name": "Python 3",
      "language": "python",
      "name": "python3"
    },
    "language_info": {
      "codemirror_mode": {
        "name": "ipython",
        "version": 3
      },
      "file_extension": ".py",
      "mimetype": "text/x-python",
      "name": "python",
      "nbconvert_exporter": "python",
      "pygments_lexer": "ipython3",
      "version": "3.8.5"
    },
    "colab": {
      "provenance": []
    }
  },
  "nbformat": 4,
  "nbformat_minor": 0
}