{
  "cells": [
    {
      "cell_type": "markdown",
      "metadata": {
        "id": "yULbT8AkE3bz"
      },
      "source": [
        "<img src=\"https://github.com/NathCunha/o-py-o/blob/master/imagens/5.png?raw=1\">\n",
        "\n",
        "## Revisando o conteúdo da semana!"
      ]
    },
    {
      "cell_type": "markdown",
      "metadata": {
        "id": "cxqcTbjcE3b1"
      },
      "source": [
        "1) Faça um programa que inicialize uma lista vazia e solicite a usuária 3 nomes de cidades, um por vez, cada vez que a usuária digitar um nome, o programa deve incluir este nome na lista de cidades."
      ]
    },
    {
      "cell_type": "code",
      "execution_count": null,
      "metadata": {
        "id": "hGql2-uZE3b2",
        "outputId": "7951c817-cc66-45f3-d274-05546979afc7",
        "colab": {
          "base_uri": "https://localhost:8080/"
        }
      },
      "outputs": [
        {
          "output_type": "stream",
          "name": "stdout",
          "text": [
            "Digite o nome de uma cidade: Natal\n",
            "Digite o nome de uma cidade: Salvador\n",
            "Digite o nome de uma cidade: Fortaleza\n",
            "\n",
            "As cidades informadas foram:  ['Natal', 'Salvador', 'Fortaleza']\n"
          ]
        }
      ],
      "source": [
        "cidades = []\n",
        "\n",
        "for cidade in range(3):\n",
        "  cidade = input(\"Digite o nome de uma cidade: \")\n",
        "  cidades.append(cidade)\n",
        "  #print('Cidade {0} adicionada'.format(item+1))\n",
        "\n",
        "print(\"\\nAs cidades informadas foram: \")\n",
        "cidades"
      ]
    },
    {
      "cell_type": "markdown",
      "metadata": {
        "id": "-JB1dF76E3b3"
      },
      "source": [
        "2) Faça um programa que inicialize uma lista com vários números diferentes, depois disso, solicite ao usuário um número, verifique se o número está ou não na lista e exiba uma mensagem notificando o usuário do resultado."
      ]
    },
    {
      "cell_type": "code",
      "execution_count": null,
      "metadata": {
        "id": "4QSCTw6nE3b4",
        "outputId": "0130c4c9-572a-4fb6-9b30-8086638bf9eb",
        "colab": {
          "base_uri": "https://localhost:8080/"
        }
      },
      "outputs": [
        {
          "output_type": "stream",
          "name": "stdout",
          "text": [
            "Digite um número que represente o tamanho da sua lista: 12\n",
            "\n",
            "Digite o início do intervalo da sua lista: 0\n",
            "\n",
            "Digite o final do intervalo da sua lista: 15\n",
            "\n",
            "Digite um número para verificar na lista: 6\n",
            "\n",
            "O número informado está na lista!\n",
            "[6, 13, 6, 9, 1, 0, 9, 2, 14, 10, 13, 5]\n"
          ]
        }
      ],
      "source": [
        "# Gerar uma lista aleatória\n",
        "import random\n",
        "\n",
        "lista_aleatoria = []\n",
        "lista_tamanho = int(input(\"Digite um número que represente o tamanho da sua lista: \"))\n",
        "valor_min = int(input(\"\\nDigite o início do intervalo da sua lista: \"))\n",
        "valor_max = int(input(\"\\nDigite o final do intervalo da sua lista: \"))\n",
        "i = 1\n",
        "\n",
        "while i <= lista_tamanho:\n",
        "    lista_aleatoria.append((random.randint(valor_min,valor_max)))\n",
        "    i+=1\n",
        "\n",
        "#Como gerar a lista sem repetições??????\n",
        "\n",
        "#Solicitar ao usuário um número\n",
        "numero = int(input(\"\\nDigite um número para verificar na lista: \"))\n",
        "\n",
        "#Verificar se o número informado está ou não na lista e notificar o usuario do resultado\n",
        "if numero in lista_aleatoria:\n",
        "  print(\"\\nO número informado está na lista!\")\n",
        "else:\n",
        "  print(\"\\nO número informado NÃO está na lista!\")\n",
        "print(lista_aleatoria)\n"
      ]
    },
    {
      "cell_type": "code",
      "source": [
        "# Outra resolução para a questão 3\n",
        "\n",
        "# criando uma lista de números com a função range()\n",
        "numeros = list(range(10, 101, 10))\n",
        "numeros\n",
        "\n",
        "# resolução usando a função 'for'\n",
        "busca = int(input('Informe a chave de busca: '))\n",
        "\n",
        "mensagem = 'Número não está na lista!'\n",
        "\n",
        "for numero in numeros:\n",
        "  if busca == numero:\n",
        "    mensagem = 'Número está na lista!'\n",
        "    break\n",
        "  \n",
        "print(mensagem)\n",
        "\n",
        "# resolução usando a operação 'in'\n",
        "busca = int(input('Informe a chave de busca: '))\n",
        "\n",
        "if busca in numeros:\n",
        "    print('Número está na lista!')\n",
        "else:\n",
        "    print('Número não está na lista!')"
      ],
      "metadata": {
        "id": "48EeB7SeuhxP"
      },
      "execution_count": null,
      "outputs": []
    },
    {
      "cell_type": "markdown",
      "metadata": {
        "id": "x2l0KXkWE3b4"
      },
      "source": [
        "3) Escreva uma função chamada `has_duplicates` que receba uma lista e retorne **True** se houver algum elemento que apareça mais de uma vez. Ela não deve modificar a lista original."
      ]
    },
    {
      "cell_type": "code",
      "execution_count": null,
      "metadata": {
        "id": "PUkM_GI3E3b5"
      },
      "outputs": [],
      "source": [
        "# Solução usando laços de repetição aninhados\n",
        "def has_duplicates(searchList):\n",
        "  msg = 'Não existe duplicação.'\n",
        "  for position in range(len(searchList)):\n",
        "    for nextPosition in range(position+1, len(searchList)):\n",
        "      # Para entender melhor como essa solução funciona descomentar o 'debug' abaixo pode ajudar\n",
        "      #print('\\nValor de \"position\":', position, '- Valor de \"next_position\":', nextPosition)\n",
        "      #print('Valores da lista nas respectivas posições:', searchList[position], ',', searchList[nextPosition])\n",
        "      \n",
        "      if searchList[position] == searchList[nextPosition]:\n",
        "        msg = '{0} - Existem um valores duplicados!'.format(True)\n",
        "        break\n",
        "\n",
        "  print(msg)\n",
        "\n",
        "has_duplicates([10, 20, 10])"
      ]
    },
    {
      "cell_type": "markdown",
      "metadata": {
        "id": "srhze9aYE3b5"
      },
      "source": [
        "4 - Escreva um programa para armazenar uma agenda de telefones em um dicionário. Cada pessoa pode ter um ou mais telefones e a chave do dicionário é o nome da pessoa. Seu programa deve ter as seguintes funções:\n",
        "\n",
        "- incluir_novo_nome – essa função acrescenta um novo nome na agenda, com um ou mais telefones. Ela deve receber como argumentos o nome e os telefones. ­\n",
        "- incluir_telefone – essa função acrescenta um telefone em um nome existente na agenda. Caso o nome não exista na agenda, você deve perguntar se a pessoa deseja incluí-­lo. Caso a resposta seja afirmativa, use a função anterior para incluir o novo nome. \n",
        "- excluir_telefone – essa função exclui um telefone de uma pessoa que já está na agenda. Se a pessoa tiver apenas um telefone, ela deve ser excluída da agenda. ­\n",
        "- excluir_nome – essa função exclui uma pessoa da agenda. ­\n",
        "- consultar_telefone – essa função retorna os telefones de uma pessoa na agenda."
      ]
    },
    {
      "cell_type": "code",
      "execution_count": 12,
      "metadata": {
        "id": "Vln7_GRIE3b6",
        "outputId": "ca13b80a-f2b7-4e23-e2b5-2337d9b1b7e7",
        "colab": {
          "base_uri": "https://localhost:8080/"
        }
      },
      "outputs": [
        {
          "output_type": "stream",
          "name": "stdout",
          "text": [
            "---- AGENDA ----\n",
            "\n",
            "*** Novo Contato ***\n",
            "\n",
            "Digite o nome do contato que deseja incluir na agenda: \n",
            "Ana\n",
            "\n",
            "Digite o número do contato: \n",
            "12345\n",
            "Gostaria de incluir outro número para esse contato?\n",
            "sim ou nao? sim\n",
            "\n",
            "Digite o número do contato: \n",
            "6789\n",
            "Gostaria de incluir outro número para esse contato?\n",
            "sim ou nao? sim\n",
            "\n",
            "Digite o número do contato: \n",
            "0123678\n",
            "Gostaria de incluir outro número para esse contato?\n",
            "sim ou nao? nao\n",
            "\n",
            "*** Contato incluído com sucesso! ***\n",
            " {'Ana': ['12345', '6789', '0123678']}\n"
          ]
        }
      ],
      "source": [
        "# Chave do dict é o nome da pessoa e como cada pessoa pode ter mais de um tel\n",
        "# o valor do dicionário serão listas com os números. \n",
        "agenda = {}\n",
        "\n",
        "# incluir_novo_nome – essa função acrescenta um novo nome na agenda, com um ou \n",
        "# mais telefones. Ela deve receber como argumentos o nome e os telefones. ­\n",
        "def incluir_novo_nome():\n",
        "  print(\"---- AGENDA ----\")\n",
        "  print(\"\\n*** Novo Contato ***\")\n",
        "  \n",
        "  conclusao = False\n",
        "  nome = input(\"\\nDigite o nome do contato que deseja incluir na agenda: \\n\")\n",
        "  agenda[nome] = []\n",
        "\n",
        "  while conclusao == False:\n",
        "    numero = input(\"\\nDigite o número do contato: \\n\")\n",
        "    agenda[nome].append(numero)\n",
        "    \n",
        "    print(\"Gostaria de incluir outro número para esse contato?\")\n",
        "    outro_numero = input(\"sim ou nao? \")\n",
        "    \n",
        "    if outro_numero == \"nao\":\n",
        "      conclusao = True\n",
        "      print(\"\\n*** Contato incluído com sucesso! ***\")\n",
        "\n",
        "incluir_novo_nome()\n",
        "print(\"\",agenda)"
      ]
    },
    {
      "cell_type": "code",
      "source": [
        "# incluir_telefone – essa função acrescenta um telefone em um nome existente na agenda.\n",
        "def incluir_telefone():\n",
        "  print('\\n> Adicionando telefone a um contato: ')\n",
        "  nome = input('Informe o nome: ')\n",
        "  if agenda.get(nome) is None:\n",
        "    print('\\n>Esse contato não está cadastrado. Gostaria de adicionar?')\n",
        "    resposta = input('Informe Sim ou Não: ')\n",
        "    if resposta == 'Sim':\n",
        "      adicionar_contato()\n",
        "      return\n",
        "  \n",
        "  telefones = agenda.get(nome)\n",
        "  telefone = input('Informe novo telefone: ')\n",
        "  telefones.append(telefone)\n",
        "  agenda[nome] = telefones\n",
        "  print(f'\\nTelefone adicionado com sucesso! A lista atualizada de telefones de {nome} é: \\n{agenda[nome]}')\n",
        "\n",
        "# Caso o nome não exista na agenda, se deve perguntar se a pessoa deseja incluí-­lo. \n",
        "# Caso a resposta seja afirmativa, usa-se a função anterior para incluir o novo nome.\n",
        "def adicionar_contato():\n",
        "  telefones = []\n",
        "  print('\\n> Cadastrando novo contato:')\n",
        "  nome = input('Nome: ')\n",
        "  print('\\nInforme um telefone por vez. Para sair da adição de telefone digite 0:')\n",
        "  while(True):\n",
        "    telefone = input('Telefone: ')\n",
        "    if telefone == '0':\n",
        "      break\n",
        "    telefones.append(telefone)\n",
        "\n",
        "  agenda[nome] = telefones\n",
        "  print('Contato cadastrado com sucesso!')\n",
        "\n",
        "#excluir_telefone – essa função exclui um telefone de uma pessoa que já está na \n",
        "#agenda. Se a pessoa tiver apenas um telefone, ela deve ser excluída da agenda. \n",
        "def deletar_telefone():\n",
        "  print('\\n> Deletando telefone de um contato: ')\n",
        "  nome = input('Informe o nome: ')\n",
        "  if agenda.get(nome) is None:\n",
        "    print('Esse contato não está cadastrado!')\n",
        "    return\n",
        "  \n",
        "  telefones = agenda.get(nome)\n",
        "  print(f'\\n{nome} possui os seguintes telefones: {agenda[nome]}')\n",
        "  telefone = input('Qual telefone deseja deletar? ')\n",
        "  telefones.remove(telefone)\n",
        "  agenda[nome] = telefones\n",
        "  print(f'\\nTelefone deletado com sucesso! A lista atualizada de telefones de {nome} é: \\n{agenda[nome]}')\n",
        "\n",
        "#excluir_nome – essa função exclui uma pessoa da agenda. \n",
        "def deletar_contato():\n",
        "  print('\\n> Deletando contato: ')\n",
        "  nome = input('Informe o nome: ')\n",
        "  agenda.pop(nome)\n",
        "  print(f'\\nContato deletado com sucesso! A agenda atualuzada é: \\n{agenda.keys()}')\n",
        "\n",
        "#consultar_telefone – essa função retorna os telefones de uma pessoa na agenda.\n",
        "def consultar_telefone():\n",
        "  print('\\n> Exibindo informações do contato: ')\n",
        "  nome = input('Informe o nome: ')\n",
        "  print(f'\\n{nome} possui os seguintes telefones: {agenda[nome]}')"
      ],
      "metadata": {
        "id": "NrckEYSjILIa"
      },
      "execution_count": 13,
      "outputs": []
    },
    {
      "cell_type": "code",
      "source": [
        "while(True):\n",
        "  print('\\n******************* Minha Agenda ******************')\n",
        "  print('Opções disponíveis:')\n",
        "  print('\\t1) Adicionar novo contato')\n",
        "  print('\\t2) Adicionar telefone a um contato existente')\n",
        "  print('\\t3) Excluir telefone de um contato')\n",
        "  print('\\t4) Excluir o contato')\n",
        "  print('\\t5) Consultar telefones de um contato')\n",
        "  print('\\tInforme 0 para sair!')\n",
        "\n",
        "  opcao = int(input('\\nQual é a opção desejada? '))\n",
        "\n",
        "  if opcao == 0:\n",
        "    break\n",
        "  elif opcao == 1:\n",
        "    adicionar_contato()\n",
        "  elif opcao == 2:\n",
        "    incluir_telefone()\n",
        "  elif opcao == 3:\n",
        "    deletar_telefone()\n",
        "  elif opcao == 4:\n",
        "    deletar_contato()\n",
        "  elif opcao == 5:\n",
        "    consultar_telefone()\n",
        "  else:\n",
        "    print('opção inválida!')\n"
      ],
      "metadata": {
        "id": "FWj1QzRWhekh",
        "outputId": "e1fd6d54-493a-46ec-cc14-dcbe0e54815a",
        "colab": {
          "base_uri": "https://localhost:8080/"
        }
      },
      "execution_count": 15,
      "outputs": [
        {
          "name": "stdout",
          "output_type": "stream",
          "text": [
            "\n",
            "******************* Minha Agenda ******************\n",
            "Opções disponíveis:\n",
            "\t1) Adicionar novo contato\n",
            "\t2) Adicionar telefone a um contato existente\n",
            "\t3) Excluir telefone de um contato\n",
            "\t4) Excluir o contato\n",
            "\t5) Consultar telefones de um contato\n",
            "\tInforme 0 para sair!\n",
            "\n",
            "Qual é a opção desejada? 1\n",
            "\n",
            "> Cadastrando novo contato:\n",
            "Nome: ana\n",
            "\n",
            "Informe um telefone por vez. Para sair da adição de telefone digite 0:\n",
            "Telefone: 1234\n",
            "Telefone: 5678\n",
            "Telefone: 0\n",
            "Contato cadastrado com sucesso!\n",
            "\n",
            "******************* Minha Agenda ******************\n",
            "Opções disponíveis:\n",
            "\t1) Adicionar novo contato\n",
            "\t2) Adicionar telefone a um contato existente\n",
            "\t3) Excluir telefone de um contato\n",
            "\t4) Excluir o contato\n",
            "\t5) Consultar telefones de um contato\n",
            "\tInforme 0 para sair!\n",
            "\n",
            "Qual é a opção desejada? 1\n",
            "\n",
            "> Cadastrando novo contato:\n",
            "Nome: bia\n",
            "\n",
            "Informe um telefone por vez. Para sair da adição de telefone digite 0:\n",
            "Telefone: 9012\n",
            "Telefone: 0\n",
            "Contato cadastrado com sucesso!\n",
            "\n",
            "******************* Minha Agenda ******************\n",
            "Opções disponíveis:\n",
            "\t1) Adicionar novo contato\n",
            "\t2) Adicionar telefone a um contato existente\n",
            "\t3) Excluir telefone de um contato\n",
            "\t4) Excluir o contato\n",
            "\t5) Consultar telefones de um contato\n",
            "\tInforme 0 para sair!\n",
            "\n",
            "Qual é a opção desejada? 2\n",
            "\n",
            "> Adicionando telefone a um contato: \n",
            "Informe o nome: bia\n",
            "Informe novo telefone: 3476\n",
            "\n",
            "Telefone adicionado com sucesso! A lista atualizada de telefones de bia é: \n",
            "['9012', '3476']\n",
            "\n",
            "******************* Minha Agenda ******************\n",
            "Opções disponíveis:\n",
            "\t1) Adicionar novo contato\n",
            "\t2) Adicionar telefone a um contato existente\n",
            "\t3) Excluir telefone de um contato\n",
            "\t4) Excluir o contato\n",
            "\t5) Consultar telefones de um contato\n",
            "\tInforme 0 para sair!\n",
            "\n",
            "Qual é a opção desejada? 5\n",
            "\n",
            "> Exibindo informações do contato: \n",
            "Informe o nome: ana\n",
            "\n",
            "ana possui os seguintes telefones: ['1234', '5678']\n",
            "\n",
            "******************* Minha Agenda ******************\n",
            "Opções disponíveis:\n",
            "\t1) Adicionar novo contato\n",
            "\t2) Adicionar telefone a um contato existente\n",
            "\t3) Excluir telefone de um contato\n",
            "\t4) Excluir o contato\n",
            "\t5) Consultar telefones de um contato\n",
            "\tInforme 0 para sair!\n",
            "\n",
            "Qual é a opção desejada? 3\n",
            "\n",
            "> Deletando telefone de um contato: \n",
            "Informe o nome: ana\n",
            "\n",
            "ana possui os seguintes telefones: ['1234', '5678']\n",
            "Qual telefone deseja deletar? 1234\n",
            "\n",
            "Telefone deletado com sucesso! A lista atualizada de telefones de ana é: \n",
            "['5678']\n",
            "\n",
            "******************* Minha Agenda ******************\n",
            "Opções disponíveis:\n",
            "\t1) Adicionar novo contato\n",
            "\t2) Adicionar telefone a um contato existente\n",
            "\t3) Excluir telefone de um contato\n",
            "\t4) Excluir o contato\n",
            "\t5) Consultar telefones de um contato\n",
            "\tInforme 0 para sair!\n",
            "\n",
            "Qual é a opção desejada? 4\n",
            "\n",
            "> Deletando contato: \n",
            "Informe o nome: bia\n",
            "\n",
            "Contato deletado com sucesso! A agenda atualuzada é: \n",
            "dict_keys(['Ana', 'Bia', 'ana'])\n",
            "\n",
            "******************* Minha Agenda ******************\n",
            "Opções disponíveis:\n",
            "\t1) Adicionar novo contato\n",
            "\t2) Adicionar telefone a um contato existente\n",
            "\t3) Excluir telefone de um contato\n",
            "\t4) Excluir o contato\n",
            "\t5) Consultar telefones de um contato\n",
            "\tInforme 0 para sair!\n",
            "\n",
            "Qual é a opção desejada? 0\n"
          ]
        }
      ]
    },
    {
      "cell_type": "markdown",
      "metadata": {
        "id": "OCrzLVxzE3b6"
      },
      "source": [
        "---\n",
        "\n",
        "## Quais são as outras formas de praticar esses conceitos?\n",
        "\n",
        "<img src=\"https://media.giphy.com/media/0AA2LiChVmvxt8v1HB/giphy.gif\" align=\"left\">"
      ]
    },
    {
      "cell_type": "markdown",
      "metadata": {
        "id": "XEE2Pmo5E3b7"
      },
      "source": [
        "<Adicionar atividade de sua preferência para aplicação dos conceitos>"
      ]
    }
  ],
  "metadata": {
    "kernelspec": {
      "display_name": "Python 3",
      "language": "python",
      "name": "python3"
    },
    "language_info": {
      "codemirror_mode": {
        "name": "ipython",
        "version": 3
      },
      "file_extension": ".py",
      "mimetype": "text/x-python",
      "name": "python",
      "nbconvert_exporter": "python",
      "pygments_lexer": "ipython3",
      "version": "3.8.5"
    },
    "colab": {
      "provenance": []
    }
  },
  "nbformat": 4,
  "nbformat_minor": 0
}