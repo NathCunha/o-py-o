{
  "cells": [
    {
      "cell_type": "code",
      "source": [],
      "metadata": {
        "id": "s-aBj-XpBngx"
      },
      "execution_count": null,
      "outputs": []
    },
    {
      "cell_type": "markdown",
      "metadata": {
        "id": "-eG9ZO5jgGqr"
      },
      "source": [
        "<img src=\"https://github.com/NathCunha/o-py-o/blob/master/imagens/4.png?raw=1\">\n",
        "\n",
        "## Revisando o conteúdo da semana!"
      ]
    },
    {
      "cell_type": "markdown",
      "metadata": {
        "id": "um-BByWSgGqu"
      },
      "source": [
        "1) Faça um programa que leia um nome de usuário e a sua senha e não aceite a senha igual ao nome do usuário, mostrando uma mensagem de erro e voltando a pedir as informações."
      ]
    },
    {
      "cell_type": "code",
      "execution_count": 11,
      "metadata": {
        "id": "74qpdLLEgGqv",
        "outputId": "5953311c-25b4-47ff-cd81-1d2df48d7c76",
        "colab": {
          "base_uri": "https://localhost:8080/"
        }
      },
      "outputs": [
        {
          "output_type": "stream",
          "name": "stdout",
          "text": [
            "Digite seu nome: ana\n",
            "Digite uma senha: ana\n",
            "\n",
            "A senha não pode ser igual ao seu nome!\n",
            "Digite uma senha: bia\n",
            "\n",
            "---FIM---\n"
          ]
        }
      ],
      "source": [
        "nome_user = input(\"Digite seu nome: \")\n",
        "senha_user = input(\"Digite uma senha: \")\n",
        "\n",
        "while senha_user == nome_user:\n",
        "  print(\"\\nA senha não pode ser igual ao seu nome!\")\n",
        "  senha_user = input(\"Digite uma senha: \")\n",
        "\n",
        "print(\"\\n---FIM---\")"
      ]
    },
    {
      "cell_type": "markdown",
      "metadata": {
        "id": "FX8_7DgmgGqw"
      },
      "source": [
        "2) Há um método disponível nas variáveis do tipo **string** chamado `count`. Ele recebe uma string como parâmetro e tem como objetivo contar quantas vezes esse parâmetro aparece na string original onde ele está sendo chamado. Ou seja, se eu quiser contar quantas vezes a letra **\"a\"** aparece em **\"banana\"** eu posso fazer algo como:\n",
        "```python\n",
        "fruta = 'banana'\n",
        "fruta.count(a)\n",
        "```\n",
        "\n",
        "E isso vai me dar o resultado 3. Não acredita? Testa ai! "
      ]
    },
    {
      "cell_type": "code",
      "execution_count": 12,
      "metadata": {
        "id": "13F4sKMAgGqy",
        "outputId": "5e2e747a-11c5-4fcf-c96c-0557fa2d8f53",
        "colab": {
          "base_uri": "https://localhost:8080/"
        }
      },
      "outputs": [
        {
          "output_type": "execute_result",
          "data": {
            "text/plain": [
              "3"
            ]
          },
          "metadata": {},
          "execution_count": 12
        }
      ],
      "source": [
        "fruta = 'banana'\n",
        "fruta.count('a')"
      ]
    },
    {
      "cell_type": "markdown",
      "metadata": {
        "id": "Aj_iD3TegGqy"
      },
      "source": [
        "Pois agora que sabemos disso, é chegado o momento de descobrimos quantos **\"e's\"** existem em [Prefixo de Verão ](https://www.youtube.com/watch?v=CObCy8qduuo&ab_channel=FunkeirodaZonaSul) música da maravilhosa Banda Mel. \n",
        "\n",
        "Eu vou deixar a string já montada aqui e você faz o resto beleza?!"
      ]
    },
    {
      "cell_type": "code",
      "execution_count": 16,
      "metadata": {
        "id": "3Mjw2DdLgGqz",
        "outputId": "02298d46-e9e2-4e98-f2b7-76e094b8104e",
        "colab": {
          "base_uri": "https://localhost:8080/"
        }
      },
      "outputs": [
        {
          "output_type": "execute_result",
          "data": {
            "text/plain": [
              "40"
            ]
          },
          "metadata": {},
          "execution_count": 16
        }
      ],
      "source": [
        "music = 'Ae, ae, ae, ae \\\n",
        "Ei, ei, ei, ei \\\n",
        "Oô, oô, oô, oô, oô, oô, o \\\n",
        " \\\n",
        "Quando você chegar \\\n",
        "Quando você chegar \\\n",
        "Quando você chegar \\\n",
        "Numa nova estação \\\n",
        "Te espero no verão \\\n",
        " \\\n",
        "Salve, salvador \\\n",
        "Me bato, me quebro tudo por amor \\\n",
        "Eu sou do pelô \\\n",
        "O negro é raça é fruto do amor \\\n",
        "Salve, salvador \\\n",
        "Me bato, me quebro tudo por amor \\\n",
        "Eu sou do pelô \\\n",
        " \\\n",
        "Ae, ae, ae, ae \\\n",
        "Ei, ei, ei, ei \\\n",
        "Oô, oô, oô, oô, oô, oô, o \\\n",
        " \\\n",
        "Ae, ae, ae, ae \\\n",
        "Ei, ei, ei, ei \\\n",
        "Oô, oô, o'\n",
        "\n",
        "music.count(\"e's\")\n",
        "music.count(\"e\")"
      ]
    },
    {
      "cell_type": "markdown",
      "metadata": {
        "id": "ii9j6kRDgGq1"
      },
      "source": [
        "> ##### Você tem alguma ideia de como fazer essa contagem sem usar o count()?"
      ]
    },
    {
      "cell_type": "code",
      "source": [
        "count = 0\n",
        "\n",
        "for letra in music:\n",
        "  if letra == \"e\":\n",
        "    count+=1\n",
        "print(\"A quantidade de letras 'e' é igual a \"+ str(count))"
      ],
      "metadata": {
        "id": "vs8sM-egCaOq",
        "outputId": "cbc2bd72-d5a5-4fc1-b924-790bad791df4",
        "colab": {
          "base_uri": "https://localhost:8080/"
        }
      },
      "execution_count": 18,
      "outputs": [
        {
          "output_type": "stream",
          "name": "stdout",
          "text": [
            "A quantidade de letras 'e' é igual a 40\n"
          ]
        }
      ]
    },
    {
      "cell_type": "markdown",
      "metadata": {
        "id": "-DcdgfVCgGq2"
      },
      "source": [
        "3) Faça um programa que leia 5 números e informe o maior número."
      ]
    },
    {
      "cell_type": "code",
      "execution_count": 29,
      "metadata": {
        "id": "gQkpKkXIgGq3",
        "outputId": "7863df07-b84e-49d2-fc81-4f2cef0a80c0",
        "colab": {
          "base_uri": "https://localhost:8080/"
        }
      },
      "outputs": [
        {
          "output_type": "stream",
          "name": "stdout",
          "text": [
            "Digite um numero: 6\n",
            "Digite um numero: 0\n",
            "Digite um numero: 2\n",
            "Digite um numero: 10\n",
            "Digite um numero: 3\n",
            "10\n",
            "Digite um numero: 6\n",
            "Digite um numero: 0\n",
            "Digite um numero: 2\n",
            "Digite um numero: 10\n",
            "Digite um numero: 3\n",
            "10\n"
          ]
        }
      ],
      "source": [
        "guarda_maior = 0\n",
        "count = 0\n",
        "\n",
        "#Solução usando o while:\n",
        "while count < 5:\n",
        "  numero = int(input(\"Digite um numero: \"))\n",
        "  count += 1\n",
        "  if numero > guarda_maior:\n",
        "    guarda_maior = numero\n",
        "print(guarda_maior)\n",
        "\n",
        "#Solução usando o For:\n",
        "for x in range(5):\n",
        "  numero = int(input(\"Digite um numero: \"))\n",
        "  if numero > guarda_maior:\n",
        "    guarda_maior = numero\n",
        "print(guarda_maior)"
      ]
    },
    {
      "cell_type": "markdown",
      "metadata": {
        "id": "luX0uuftgGq3"
      },
      "source": [
        "4) Faça um programa que receba dois números inteiros e gere os números inteiros que estão no intervalo compreendido por eles.\n"
      ]
    },
    {
      "cell_type": "code",
      "execution_count": 32,
      "metadata": {
        "id": "J7QGGnvkgGq5",
        "outputId": "684bc456-f692-4f88-d602-d8791770ee3e",
        "colab": {
          "base_uri": "https://localhost:8080/"
        }
      },
      "outputs": [
        {
          "output_type": "stream",
          "name": "stdout",
          "text": [
            "Digite um número inteiro: 3\n",
            "Digite um segundo número inteiro: 10\n",
            "4\n",
            "5\n",
            "6\n",
            "7\n",
            "8\n",
            "9\n"
          ]
        }
      ],
      "source": [
        "num1 = int(input(\"Digite um número inteiro: \"))\n",
        "num2 = int(input(\"Digite um segundo número inteiro: \"))\n",
        "\n",
        "for x in range(num1+1,num2):\n",
        "  print(x)"
      ]
    },
    {
      "cell_type": "markdown",
      "metadata": {
        "id": "1qEyjy_LgGq5"
      },
      "source": [
        "5) Altere o programa anterior para mostrar no final a soma dos números."
      ]
    },
    {
      "cell_type": "code",
      "execution_count": 37,
      "metadata": {
        "id": "C5-b9oF3gGq6",
        "outputId": "34b530f3-fcf5-4887-d625-b85ff8868d92",
        "colab": {
          "base_uri": "https://localhost:8080/"
        }
      },
      "outputs": [
        {
          "output_type": "stream",
          "name": "stdout",
          "text": [
            "Digite um número inteiro: 3\n",
            "Digite um segundo número inteiro: 10\n",
            "39\n"
          ]
        }
      ],
      "source": [
        "num1 = int(input(\"Digite um número inteiro: \"))\n",
        "num2 = int(input(\"Digite um segundo número inteiro: \"))\n",
        "soma = 0\n",
        "\n",
        "for x in range(num1+1,num2):\n",
        "  soma += x\n",
        "print(soma)"
      ]
    },
    {
      "cell_type": "markdown",
      "metadata": {
        "id": "Tw1EXPNfgGq6"
      },
      "source": [
        "6) Faça um programa que exiba as tabuadas de 1 até 10 no formato: \"2 x 3 = 6\", (utilize dois comandos for)"
      ]
    },
    {
      "cell_type": "code",
      "execution_count": 46,
      "metadata": {
        "id": "U0d7HHKIgGq7",
        "outputId": "0e1e1a21-aa30-48a6-e735-6657e0b2fbe9",
        "colab": {
          "base_uri": "https://localhost:8080/"
        }
      },
      "outputs": [
        {
          "output_type": "stream",
          "name": "stdout",
          "text": [
            "\n",
            "1 x 1 = 1\n",
            "1 x 2 = 2\n",
            "1 x 3 = 3\n",
            "1 x 4 = 4\n",
            "1 x 5 = 5\n",
            "1 x 6 = 6\n",
            "1 x 7 = 7\n",
            "1 x 8 = 8\n",
            "1 x 9 = 9\n",
            "1 x 10 = 10\n",
            "\n",
            "2 x 1 = 2\n",
            "2 x 2 = 4\n",
            "2 x 3 = 6\n",
            "2 x 4 = 8\n",
            "2 x 5 = 10\n",
            "2 x 6 = 12\n",
            "2 x 7 = 14\n",
            "2 x 8 = 16\n",
            "2 x 9 = 18\n",
            "2 x 10 = 20\n",
            "\n",
            "3 x 1 = 3\n",
            "3 x 2 = 6\n",
            "3 x 3 = 9\n",
            "3 x 4 = 12\n",
            "3 x 5 = 15\n",
            "3 x 6 = 18\n",
            "3 x 7 = 21\n",
            "3 x 8 = 24\n",
            "3 x 9 = 27\n",
            "3 x 10 = 30\n",
            "\n",
            "4 x 1 = 4\n",
            "4 x 2 = 8\n",
            "4 x 3 = 12\n",
            "4 x 4 = 16\n",
            "4 x 5 = 20\n",
            "4 x 6 = 24\n",
            "4 x 7 = 28\n",
            "4 x 8 = 32\n",
            "4 x 9 = 36\n",
            "4 x 10 = 40\n",
            "\n",
            "5 x 1 = 5\n",
            "5 x 2 = 10\n",
            "5 x 3 = 15\n",
            "5 x 4 = 20\n",
            "5 x 5 = 25\n",
            "5 x 6 = 30\n",
            "5 x 7 = 35\n",
            "5 x 8 = 40\n",
            "5 x 9 = 45\n",
            "5 x 10 = 50\n",
            "\n",
            "6 x 1 = 6\n",
            "6 x 2 = 12\n",
            "6 x 3 = 18\n",
            "6 x 4 = 24\n",
            "6 x 5 = 30\n",
            "6 x 6 = 36\n",
            "6 x 7 = 42\n",
            "6 x 8 = 48\n",
            "6 x 9 = 54\n",
            "6 x 10 = 60\n",
            "\n",
            "7 x 1 = 7\n",
            "7 x 2 = 14\n",
            "7 x 3 = 21\n",
            "7 x 4 = 28\n",
            "7 x 5 = 35\n",
            "7 x 6 = 42\n",
            "7 x 7 = 49\n",
            "7 x 8 = 56\n",
            "7 x 9 = 63\n",
            "7 x 10 = 70\n",
            "\n",
            "8 x 1 = 8\n",
            "8 x 2 = 16\n",
            "8 x 3 = 24\n",
            "8 x 4 = 32\n",
            "8 x 5 = 40\n",
            "8 x 6 = 48\n",
            "8 x 7 = 56\n",
            "8 x 8 = 64\n",
            "8 x 9 = 72\n",
            "8 x 10 = 80\n",
            "\n",
            "9 x 1 = 9\n",
            "9 x 2 = 18\n",
            "9 x 3 = 27\n",
            "9 x 4 = 36\n",
            "9 x 5 = 45\n",
            "9 x 6 = 54\n",
            "9 x 7 = 63\n",
            "9 x 8 = 72\n",
            "9 x 9 = 81\n",
            "9 x 10 = 90\n",
            "\n",
            "10 x 1 = 10\n",
            "10 x 2 = 20\n",
            "10 x 3 = 30\n",
            "10 x 4 = 40\n",
            "10 x 5 = 50\n",
            "10 x 6 = 60\n",
            "10 x 7 = 70\n",
            "10 x 8 = 80\n",
            "10 x 9 = 90\n",
            "10 x 10 = 100\n"
          ]
        }
      ],
      "source": [
        "for num in range(1,11):\n",
        "  print(\"\")\n",
        "  for num2 in range(1,11):\n",
        "    result = num*num2\n",
        "    print(str(num) + \" x \" + str(num2) + \" = \" + str(result))"
      ]
    },
    {
      "cell_type": "markdown",
      "metadata": {
        "id": "Vb1IKSDJgGq8"
      },
      "source": [
        "---\n",
        "\n",
        "## Quais são as outras formas de praticar esses conceitos?\n",
        "\n",
        "<img src=\"https://media.giphy.com/media/3gPLPJzFi8a3vhLTtw/giphy.gif\" align=\"left\">"
      ]
    },
    {
      "cell_type": "code",
      "source": [],
      "metadata": {
        "id": "HHxAr_y1g536"
      },
      "execution_count": null,
      "outputs": []
    },
    {
      "cell_type": "markdown",
      "metadata": {
        "id": "QLLsoc_lgGq9"
      },
      "source": [
        "<Adicionar atividade de sua preferência para aplicação dos conceitos>"
      ]
    },
    {
      "cell_type": "markdown",
      "source": [
        "Como usar a concatenação (adição de strings) e um loop for para gerar uma série abecedária (isto é, em ordem alfabética).  No livro de Robert McCloskey, Make Way for Ducklings (Abram caminho para os patinhos), os nomes dos patinhos são Jack, Kack, Lack, Mack, Nack, Ouack, Pack e Quack. Este loop produz estes nomes em ordem:\n",
        "\n",
        "\n",
        "``` \n",
        "prefixes = 'JKLMNOPQ'\n",
        "suffix = 'ack'\n",
        "for letter in prefixes:\n",
        "    print(letter + suffix)\n",
        "A saída é:\n",
        "Jack\n",
        "Kack\n",
        "Lack\n",
        "Mack\n",
        "Nack\n",
        "Oack\n",
        "Pack\n",
        "Qack\n",
        "```\n",
        "\n",
        "Claro que não está exatamente certo porque “Ouack” e “Quack” foram mal soletrados. Como exercício, altere o programa para corrigir este erro.\n"
      ],
      "metadata": {
        "id": "daS0FzE2gRfP"
      }
    },
    {
      "cell_type": "code",
      "source": [
        "prefixes = 'JKLMNOPQ'\n",
        "suffix = 'ack'\n",
        "for letter in prefixes:\n",
        "    if letter == \"O\" or letter == \"Q\":\n",
        "      print(letter + \"u\" + suffix)\n",
        "    else:\n",
        "      print(letter + suffix)"
      ],
      "metadata": {
        "id": "vQhRGCZWg66-",
        "outputId": "b4bdb7f5-5ee5-48fe-c2f1-15defc98de83",
        "colab": {
          "base_uri": "https://localhost:8080/"
        }
      },
      "execution_count": 5,
      "outputs": [
        {
          "output_type": "stream",
          "name": "stdout",
          "text": [
            "Jack\n",
            "Kack\n",
            "Lack\n",
            "Mack\n",
            "Nack\n",
            "Ouack\n",
            "Pack\n",
            "Quack\n"
          ]
        }
      ]
    }
  ],
  "metadata": {
    "kernelspec": {
      "display_name": "Python 3",
      "language": "python",
      "name": "python3"
    },
    "language_info": {
      "codemirror_mode": {
        "name": "ipython",
        "version": 3
      },
      "file_extension": ".py",
      "mimetype": "text/x-python",
      "name": "python",
      "nbconvert_exporter": "python",
      "pygments_lexer": "ipython3",
      "version": "3.8.5"
    },
    "colab": {
      "provenance": []
    }
  },
  "nbformat": 4,
  "nbformat_minor": 0
}