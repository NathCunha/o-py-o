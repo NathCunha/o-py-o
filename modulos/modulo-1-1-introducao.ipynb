{
  "cells": [
    {
      "cell_type": "markdown",
      "metadata": {
        "id": "3qifATCXcWZN"
      },
      "source": [
        "<img src=\"https://github.com/NathCunha/o-py-o/blob/master/imagens/1.png?raw=1\">\n",
        "\n",
        "## Revisando o conteúdo da semana!"
      ]
    },
    {
      "cell_type": "markdown",
      "metadata": {
        "id": "F6KJhZRscWZV"
      },
      "source": [
        "1) Em uma instrução `print()`, o que acontece se você omitir um dos parênteses ou ambos?"
      ]
    },
    {
      "cell_type": "code",
      "execution_count": 1,
      "metadata": {
        "id": "McswPaMCcWZW",
        "outputId": "d9c7b959-d47a-450d-be18-52aec3fee93a",
        "colab": {
          "base_uri": "https://localhost:8080/",
          "height": 130
        }
      },
      "outputs": [
        {
          "output_type": "error",
          "ename": "SyntaxError",
          "evalue": "ignored",
          "traceback": [
            "\u001b[0;36m  File \u001b[0;32m\"<ipython-input-1-9414bf0b0c3c>\"\u001b[0;36m, line \u001b[0;32m2\u001b[0m\n\u001b[0;31m    # Ocorre um erro se sintax.\u001b[0m\n\u001b[0m                               ^\u001b[0m\n\u001b[0;31mSyntaxError\u001b[0m\u001b[0;31m:\u001b[0m unexpected EOF while parsing\n"
          ]
        }
      ],
      "source": [
        "print( \n",
        "# Ocorre um erro se sintax."
      ]
    },
    {
      "cell_type": "markdown",
      "metadata": {
        "id": "J2YwNquqcWZX"
      },
      "source": [
        "2) O que acontece se puser um sinal de mais antes de um número? E se escrever assim: `2++2`?"
      ]
    },
    {
      "cell_type": "code",
      "execution_count": 2,
      "metadata": {
        "id": "Qha8ZOZbcWZY",
        "outputId": "ab3b7e4e-5b93-4374-a09e-30ed268c9c3d",
        "colab": {
          "base_uri": "https://localhost:8080/"
        }
      },
      "outputs": [
        {
          "output_type": "execute_result",
          "data": {
            "text/plain": [
              "4"
            ]
          },
          "metadata": {},
          "execution_count": 2
        }
      ],
      "source": [
        "+2 #Ele printa apenas o número 2\n",
        "2++2 #Ele printa 4, ou seja, ignora um dos simbolos de +"
      ]
    },
    {
      "cell_type": "markdown",
      "metadata": {
        "id": "7O0xX5NtcWZY"
      },
      "source": [
        "3) O que acontece se você tentar usar 02 isso no Python?"
      ]
    },
    {
      "cell_type": "code",
      "execution_count": 3,
      "metadata": {
        "id": "BdpblIikcWZY",
        "outputId": "e48e55df-0a17-45db-a4df-6500d63da9f8",
        "colab": {
          "base_uri": "https://localhost:8080/",
          "height": 130
        }
      },
      "outputs": [
        {
          "output_type": "error",
          "ename": "SyntaxError",
          "evalue": "ignored",
          "traceback": [
            "\u001b[0;36m  File \u001b[0;32m\"<ipython-input-3-1cb64814667d>\"\u001b[0;36m, line \u001b[0;32m1\u001b[0m\n\u001b[0;31m    02 #ocorre um erro de sintaxe, pois \"in Python 3, leading zeros are not allowed on numbers\" mas em Python 2 é permitido.\u001b[0m\n\u001b[0m     ^\u001b[0m\n\u001b[0;31mSyntaxError\u001b[0m\u001b[0;31m:\u001b[0m invalid token\n"
          ]
        }
      ],
      "source": [
        "02 #ocorre um erro de sintaxe, pois \"in Python 3, leading zeros are not allowed on numbers\" mas em Python 2 é permitido."
      ]
    },
    {
      "cell_type": "markdown",
      "metadata": {
        "id": "1Hb_puUjcWZZ"
      },
      "source": [
        "4) Quantos segundos há em 42 minutos e 42 segundos?"
      ]
    },
    {
      "cell_type": "code",
      "execution_count": 4,
      "metadata": {
        "id": "9yhCDYElcWZZ",
        "outputId": "03dbb414-41be-4759-b35b-d374ba87f8d8",
        "colab": {
          "base_uri": "https://localhost:8080/"
        }
      },
      "outputs": [
        {
          "output_type": "stream",
          "name": "stdout",
          "text": [
            "2562 segundos\n"
          ]
        }
      ],
      "source": [
        "min = 60 #quantos segundos tem 1min\n",
        "x = (42*min)+42\n",
        "print(x,\"segundos\")"
      ]
    },
    {
      "cell_type": "markdown",
      "metadata": {
        "id": "b9yBMWaccWZZ"
      },
      "source": [
        "5) Vimos que `n = 42` é funciona. E `42 = n`?"
      ]
    },
    {
      "cell_type": "code",
      "execution_count": 5,
      "metadata": {
        "id": "m6hCuaZ6cWZb",
        "outputId": "0664164a-133e-4da0-b2e3-d0c80dba9209",
        "colab": {
          "base_uri": "https://localhost:8080/",
          "height": 130
        }
      },
      "outputs": [
        {
          "output_type": "error",
          "ename": "SyntaxError",
          "evalue": "ignored",
          "traceback": [
            "\u001b[0;36m  File \u001b[0;32m\"<ipython-input-5-56e2b97ba395>\"\u001b[0;36m, line \u001b[0;32m1\u001b[0m\n\u001b[0;31m    42=n #erro de sintaxe\u001b[0m\n\u001b[0m                         ^\u001b[0m\n\u001b[0;31mSyntaxError\u001b[0m\u001b[0;31m:\u001b[0m can't assign to literal\n"
          ]
        }
      ],
      "source": [
        "42=n #erro de sintaxe"
      ]
    },
    {
      "cell_type": "markdown",
      "metadata": {
        "id": "mJa10VNucWZb"
      },
      "source": [
        "6) Qual é o resultado da expressão `x = y = 1`? Você consegue explicar o que aconteceu aqui?"
      ]
    },
    {
      "cell_type": "code",
      "execution_count": 8,
      "metadata": {
        "id": "L7JtjCKYcWZb",
        "outputId": "ea7304ac-2656-4733-c9f3-31503b452a09",
        "colab": {
          "base_uri": "https://localhost:8080/"
        }
      },
      "outputs": [
        {
          "output_type": "execute_result",
          "data": {
            "text/plain": [
              "1"
            ]
          },
          "metadata": {},
          "execution_count": 8
        }
      ],
      "source": [
        "x=y=1 #Não ocorre erro, pois o python interpreta que tanto x quanto y tem valor 1"
      ]
    },
    {
      "cell_type": "markdown",
      "metadata": {
        "id": "qLuK3hb9cWZc"
      },
      "source": [
        "7) O que acontece se você puser um ponto e vírgula no fim de uma instrução no Python? E um ponto?"
      ]
    },
    {
      "cell_type": "code",
      "execution_count": 9,
      "metadata": {
        "id": "cgH7UUdpcWZc"
      },
      "outputs": [],
      "source": [
        "x=2, #nenhum erro\n",
        "y=2. #nenhum erro"
      ]
    },
    {
      "cell_type": "markdown",
      "metadata": {
        "id": "Zre5kCj_cWZd"
      },
      "source": [
        "8) Em notação matemática é possível multiplicar x e y desta forma: xy. O que acontece se você tentar fazer o mesmo no Python?\n",
        "\n",
        "```python\n",
        "x = 2\n",
        "y = 8\n",
        "\n",
        "xy\n",
        "```"
      ]
    },
    {
      "cell_type": "code",
      "execution_count": 10,
      "metadata": {
        "id": "9o02ys5LcWZe",
        "outputId": "41cc1835-f8ca-4eb6-bb7c-737e7ee1c96b",
        "colab": {
          "base_uri": "https://localhost:8080/",
          "height": 164
        }
      },
      "outputs": [
        {
          "output_type": "error",
          "ename": "NameError",
          "evalue": "ignored",
          "traceback": [
            "\u001b[0;31m---------------------------------------------------------------------------\u001b[0m",
            "\u001b[0;31mNameError\u001b[0m                                 Traceback (most recent call last)",
            "\u001b[0;32m<ipython-input-10-9bd1515534c6>\u001b[0m in \u001b[0;36m<module>\u001b[0;34m\u001b[0m\n\u001b[0;32m----> 1\u001b[0;31m \u001b[0mxy\u001b[0m \u001b[0;31m#nameerror pois o python interpreta xy como o nome de uma variável e não como uma multiplicação.\u001b[0m\u001b[0;34m\u001b[0m\u001b[0;34m\u001b[0m\u001b[0m\n\u001b[0m",
            "\u001b[0;31mNameError\u001b[0m: name 'xy' is not defined"
          ]
        }
      ],
      "source": [
        "xy #nameerror pois o python interpreta xy como o nome de uma variável e não como uma multiplicação."
      ]
    },
    {
      "cell_type": "markdown",
      "metadata": {
        "id": "nML5M8w9cWZe"
      },
      "source": [
        "9) O que significa a saída do código abaixo?\n",
        "\n",
        "```python\n",
        "nome = 'Grupo de estudos Ó Py Ó'\n",
        "type(nome)\n",
        "```"
      ]
    },
    {
      "cell_type": "code",
      "execution_count": 11,
      "metadata": {
        "id": "cunjVbA4cWZe",
        "outputId": "c706cf59-00d9-42e8-b973-33cbc323dcd1",
        "colab": {
          "base_uri": "https://localhost:8080/"
        }
      },
      "outputs": [
        {
          "output_type": "execute_result",
          "data": {
            "text/plain": [
              "str"
            ]
          },
          "metadata": {},
          "execution_count": 11
        }
      ],
      "source": [
        "nome = 'Grupo de estudos Ó Py Ó'\n",
        "type(nome) # a saída desse código é a classe/tipo que o valor que está entre parenteses possui, neste caso string."
      ]
    },
    {
      "cell_type": "markdown",
      "metadata": {
        "id": "U5KKh3J_cWZf"
      },
      "source": [
        "10) Repdoruza um erro de sintaxe"
      ]
    },
    {
      "cell_type": "code",
      "execution_count": 13,
      "metadata": {
        "id": "k1EmLVxkcWZf",
        "outputId": "c3835df6-5387-4336-f051-04025dc891a0",
        "colab": {
          "base_uri": "https://localhost:8080/",
          "height": 130
        }
      },
      "outputs": [
        {
          "output_type": "error",
          "ename": "SyntaxError",
          "evalue": "ignored",
          "traceback": [
            "\u001b[0;36m  File \u001b[0;32m\"<ipython-input-13-18131fda81d5>\"\u001b[0;36m, line \u001b[0;32m1\u001b[0m\n\u001b[0;31m    @n=1\u001b[0m\n\u001b[0m      ^\u001b[0m\n\u001b[0;31mSyntaxError\u001b[0m\u001b[0;31m:\u001b[0m invalid syntax\n"
          ]
        }
      ],
      "source": [
        "@n=1"
      ]
    },
    {
      "cell_type": "markdown",
      "metadata": {
        "id": "iBqDcWgKcWZf"
      },
      "source": [
        "11) Reproduza um erro de identação"
      ]
    },
    {
      "cell_type": "code",
      "execution_count": 15,
      "metadata": {
        "id": "5tyLnYnZcWZg"
      },
      "outputs": [],
      "source": []
    },
    {
      "cell_type": "markdown",
      "metadata": {
        "id": "DKr_TLo2cWZg"
      },
      "source": [
        "---"
      ]
    },
    {
      "cell_type": "markdown",
      "metadata": {
        "id": "UT57GzLicWZh"
      },
      "source": [
        "## Quais são as outras formas de praticar esses conceitos?\n",
        "\n",
        "<img src=\"https://media.giphy.com/media/2wS8Hh619rZvvf95op/giphy.gif\" align=\"left\">"
      ]
    },
    {
      "cell_type": "markdown",
      "metadata": {
        "id": "eWKRWoNGcWZh"
      },
      "source": [
        "<Adicionar atividade de sua preferência para aplicação dos conceitos>"
      ]
    }
  ],
  "metadata": {
    "kernelspec": {
      "display_name": "Python 3",
      "language": "python",
      "name": "python3"
    },
    "language_info": {
      "codemirror_mode": {
        "name": "ipython",
        "version": 3
      },
      "file_extension": ".py",
      "mimetype": "text/x-python",
      "name": "python",
      "nbconvert_exporter": "python",
      "pygments_lexer": "ipython3",
      "version": "3.8.5"
    },
    "colab": {
      "provenance": []
    }
  },
  "nbformat": 4,
  "nbformat_minor": 0
}