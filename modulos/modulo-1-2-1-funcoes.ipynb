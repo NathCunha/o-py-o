{
  "cells": [
    {
      "cell_type": "markdown",
      "metadata": {
        "id": "TrnJ1Res6Ygq"
      },
      "source": [
        "<img src=\"https://github.com/NathCunha/o-py-o/blob/master/imagens/2.png?raw=1\">\n",
        "\n",
        "## Revisando o conteúdo da semana!"
      ]
    },
    {
      "cell_type": "markdown",
      "metadata": {
        "id": "zKxdNG3K6Ygw"
      },
      "source": [
        "Um objeto de função é um valor que pode ser atribuído a uma variável ou passado como argumento. Por exemplo, `print_contact` é uma função que recebe como parâmetro dois objetos de funções chamados `fRegister` e `fTimeRegister`.\n",
        "As funções `fRegister` e `fTimeRegister` foram feitas para imprimir os dados de um contato e imprimir a data na qual aquele contato foi cadastrado, da uma olhadinha na definição delas:"
      ]
    },
    {
      "cell_type": "code",
      "execution_count": 2,
      "metadata": {
        "id": "sYFvesDu6Ygx"
      },
      "outputs": [],
      "source": [
        "def print_contact(fRegister, fTimeRegister):\n",
        "    print('\\n***** Imprimindo informações do contato: *****')\n",
        "    fRegister()\n",
        "    fTimeRegister()"
      ]
    },
    {
      "cell_type": "code",
      "execution_count": 3,
      "metadata": {
        "id": "FM6xMe8k6Ygz"
      },
      "outputs": [],
      "source": [
        "def print_register():\n",
        "    #name = input('Digite o nome do contato: ')\n",
        "    #email = input('Digite o email do contato: ')\n",
        "    #adress = input('Digite o endereço do contato: ')\n",
        "    #birthYear = input('Digite o ano de nacimento do contato: ')\n",
        "\n",
        "    print('\\n***** Dados do contato: *****')\n",
        "    print('Nome: ', name)\n",
        "    print('Email: ', email)\n",
        "    print('Endereço: ', adress)\n",
        "    print('Ano de nascimento: ', birthYear)"
      ]
    },
    {
      "cell_type": "code",
      "execution_count": 4,
      "metadata": {
        "id": "SH8AQjQz6Yg0"
      },
      "outputs": [],
      "source": [
        "def print_update():\n",
        "    #updated = input('Digite a data de atualização: ')\n",
        "    print('\\n***** Dados de atualização: *****')\n",
        "    print('Atualizado em: ', updated)"
      ]
    },
    {
      "cell_type": "code",
      "source": [
        "# Definição de uma função alternativa com parâmetros\n",
        "def print_register_with_parameters(name, email, adress, birthYear):\n",
        "    print('\\n ***** Dados do contato: *****')\n",
        "    print('Nome: ', name)\n",
        "    print('Email: ', email)\n",
        "    print('Endereço: ', adress)\n",
        "    print('Ano de nascimento: ', birthYear)"
      ],
      "metadata": {
        "id": "_BeNf1C0Xzc4"
      },
      "execution_count": 5,
      "outputs": []
    },
    {
      "cell_type": "markdown",
      "metadata": {
        "id": "jXMlkWx06Yg1"
      },
      "source": [
        "1) O que acontece se você tentar executar diretamente `print_contact()`? "
      ]
    },
    {
      "cell_type": "code",
      "execution_count": 9,
      "metadata": {
        "id": "tNcHCRB66Yg1",
        "outputId": "3ca1ad8a-abd8-4455-efbd-cd3375e28dc3",
        "colab": {
          "base_uri": "https://localhost:8080/",
          "height": 232
        }
      },
      "outputs": [
        {
          "output_type": "error",
          "ename": "TypeError",
          "evalue": "ignored",
          "traceback": [
            "\u001b[0;31m---------------------------------------------------------------------------\u001b[0m",
            "\u001b[0;31mTypeError\u001b[0m                                 Traceback (most recent call last)",
            "\u001b[0;32m<ipython-input-9-2dd7054f50d7>\u001b[0m in \u001b[0;36m<module>\u001b[0;34m\u001b[0m\n\u001b[0;32m----> 1\u001b[0;31m \u001b[0mprint_contact\u001b[0m\u001b[0;34m(\u001b[0m\u001b[0;34m)\u001b[0m\u001b[0;34m\u001b[0m\u001b[0;34m\u001b[0m\u001b[0m\n\u001b[0m\u001b[1;32m      2\u001b[0m \u001b[0;34m\u001b[0m\u001b[0m\n\u001b[1;32m      3\u001b[0m \u001b[0;31m#Ocorre um erro do tipo typeerror, pois essa função precisa de 2 argumentos para funcionar, 'fRegister' e 'fTimeRegister'.\u001b[0m\u001b[0;34m\u001b[0m\u001b[0;34m\u001b[0m\u001b[0;34m\u001b[0m\u001b[0m\n\u001b[1;32m      4\u001b[0m \u001b[0;31m#Para usar essa função com as outras funções é preciso passa as funções 'print_register' e 'print_update' como parametros. Ou seja, 'print_register' será o 'fRegister' e 'print_update' será o 'fTimeRegister'.\u001b[0m\u001b[0;34m\u001b[0m\u001b[0;34m\u001b[0m\u001b[0;34m\u001b[0m\u001b[0m\n",
            "\u001b[0;31mTypeError\u001b[0m: print_contact() missing 2 required positional arguments: 'fRegister' and 'fTimeRegister'"
          ]
        }
      ],
      "source": [
        "print_contact()\n",
        "\n",
        "#Ocorre um erro do tipo typeerror, pois essa função precisa de 2 argumentos para funcionar, 'fRegister' e 'fTimeRegister'.\n",
        "#Para usar essa função com as outras funções é preciso passa as funções 'print_register' e 'print_update' como parametros. Ou seja, 'print_register' será o 'fRegister' e 'print_update' será o 'fTimeRegister'."
      ]
    },
    {
      "cell_type": "markdown",
      "metadata": {
        "id": "8B3Xjsvc6Yg2"
      },
      "source": [
        "2) O que você precisa fazer para `print_contact` funcione corretamente?\n",
        "\n",
        "> ##### Dica: preste atenção nas mensagens de erro, elas são ótimas guias!\n",
        "\n",
        "\n",
        "---\n",
        "\n",
        "\n",
        "> ##### Resposta alternativa usando a biblioteca 'datetime' para realizar as ações que usam data e/ou hora.\n",
        "```\n",
        "#\n",
        "from datetime import datetime\n",
        "name = 'Iza'\n",
        "email = 'iza@gmail.com'\n",
        "adress = 'Silveira Martins, Cabula, Salvador'\n",
        "birthYear = '2000'\n",
        "updated = datetime.now()\n",
        "print_contact(print_register, print_update)\n",
        "```\n",
        "\n"
      ]
    },
    {
      "cell_type": "code",
      "execution_count": 6,
      "metadata": {
        "id": "z5QMy-0X6Yg2",
        "colab": {
          "base_uri": "https://localhost:8080/"
        },
        "outputId": "229e619a-dd24-46f8-bfb5-7ef67442c539"
      },
      "outputs": [
        {
          "output_type": "stream",
          "name": "stdout",
          "text": [
            "Digite o nome do contato: Nath\n",
            "Digite o email do contato: Nath_gmail.com\n",
            "Digite o endereço do contato: Rua x, n 2\n",
            "Digite o ano de nacimento do contato: 1990\n",
            "Digite a data de atualização: 04/10/2022\n",
            "\n",
            "\n",
            "***** Imprimindo informações do contato: *****\n",
            "***** Dados do contato: *****\n",
            "Nome:  Nath\n",
            "Email:  Nath_gmail.com\n",
            "Endereço:  Rua x, n 2\n",
            "Ano de nascimento:  1990\n",
            "\n",
            "***** Dados de atualização: *****\n",
            "Atualizado em:  04/10/2022\n"
          ]
        }
      ],
      "source": [
        "#É necessário colocar 2 argumentos na função, 'fRegister' e 'fTimeRegister'.\n",
        "#Esses argumentos são funções que precisam ser declaradas.\n",
        "name = input('Digite o nome do contato: ')\n",
        "email = input('Digite o email do contato: ')\n",
        "adress = input('Digite o endereço do contato: ')\n",
        "birthYear = input('Digite o ano de nacimento do contato: ')\n",
        "updated = input('Digite a data de atualização: ')\n",
        "\n",
        "print(\"\")\n",
        "    \n",
        "print_contact(print_register,print_update)"
      ]
    },
    {
      "cell_type": "markdown",
      "metadata": {
        "id": "xY0u0oZx6Yg3"
      },
      "source": [
        "3) Faça as mudanças necessárias para imprimir a **\"Data de aniversário\"** ao invés do **\"Ano de Nascimento\"**."
      ]
    },
    {
      "cell_type": "code",
      "execution_count": 7,
      "metadata": {
        "id": "AE-ozUPb6Yg3",
        "outputId": "08475f0d-d358-4c83-88fd-fb774721f827",
        "colab": {
          "base_uri": "https://localhost:8080/"
        }
      },
      "outputs": [
        {
          "output_type": "stream",
          "name": "stdout",
          "text": [
            "\n",
            "***** Imprimindo informações do contato: *****\n",
            "***** Dados do contato: *****\n",
            "Nome:  Nath\n",
            "Email:  Nath_gmail.com\n",
            "Endereço:  Rua x, n 2\n",
            "Data de anviversário:  03 Sep\n",
            "\n",
            "***** Dados de atualização: *****\n",
            "Atualizado em:  04/10/2022\n"
          ]
        }
      ],
      "source": [
        "#Para fazer o que a questão pede é possivel modificar a função 'print_register' dada no inicio ou criar uma nova versão dessa função como feito abaixo.\n",
        "#Nova função 'print_register'. Ela usa uma biblioteca chamada 'datatime' para usar a hora e/ou data do momento? \n",
        "\n",
        "from datetime import datetime\n",
        "\n",
        "def print_register_v3():\n",
        "    print('***** Dados do contato: *****')\n",
        "    print('Nome: ', name)\n",
        "    print('Email: ', email)\n",
        "    print('Endereço: ', adress)\n",
        "    print('Data de anviversário: ', birthDate.strftime(\"%d %b\"))\n",
        "\n",
        "birthDate = '09/03/90' # Formato de Mês / Dia / Ano - precisa ser atribuído dessa forma\n",
        "birthDate = datetime.strptime(birthDate, '%m/%d/%y')\n",
        "\n",
        "print_contact(print_register_v3, print_update)"
      ]
    },
    {
      "cell_type": "code",
      "source": [],
      "metadata": {
        "id": "9vnmx-34fqVr"
      },
      "execution_count": null,
      "outputs": []
    },
    {
      "cell_type": "markdown",
      "metadata": {
        "id": "fgDky1kf6Yg4"
      },
      "source": [
        "Você conhece a função `input()`? Execute o código abaixo pra saber como ela funciona:\n",
        "\n",
        "> ##### Dica: depois de digitar o valor desejado tecle enter"
      ]
    },
    {
      "cell_type": "code",
      "execution_count": null,
      "metadata": {
        "id": "PG1byX7O6Yg4",
        "outputId": "bcd19381-8a83-49a5-b5d1-d76cfdc3281a",
        "colab": {
          "base_uri": "https://localhost:8080/"
        }
      },
      "outputs": [
        {
          "output_type": "stream",
          "name": "stdout",
          "text": [
            "Entre com o 1º valor: 1\n",
            "Entre com o 2º valor: 2\n",
            "A soma é 3\n"
          ]
        }
      ],
      "source": [
        "num1 = input('Entre com o 1º valor: ')\n",
        "\n",
        "num2 = input('Entre com o 2º valor: ')\n",
        "\n",
        "soma = int(num1) + int(num2)\n",
        "\n",
        "print(\"A soma é\", soma)"
      ]
    },
    {
      "cell_type": "markdown",
      "metadata": {
        "id": "jg0a_mkq6Yg5"
      },
      "source": [
        "> ##### Saiba mais sobre `input()` no tutorial [Função input e print no Python: Entrada e Saída de dados](https://pythonacademy.com.br/blog/input-e-print-entrada-e-saida-de-dados-no-python)"
      ]
    },
    {
      "cell_type": "markdown",
      "metadata": {
        "id": "GfZYHyEz6Yg5"
      },
      "source": [
        "4) Agora que você ja sabe como `input()` funciona, faça uma função que solicite 4 notas e mostre a média."
      ]
    },
    {
      "cell_type": "code",
      "execution_count": 18,
      "metadata": {
        "id": "V-I7ZpfE6Yg6",
        "outputId": "64c11c56-e663-48cc-bc67-973f8d6935a3",
        "colab": {
          "base_uri": "https://localhost:8080/"
        }
      },
      "outputs": [
        {
          "output_type": "stream",
          "name": "stdout",
          "text": [
            "Digite a nota 1: 2\n",
            "Digite a nota 2: 8\n",
            "Digite a nota 3: 9\n",
            "Digite a nota 4: 10\n",
            "\n",
            "A média das notas é  7.25\n"
          ]
        }
      ],
      "source": [
        "def mediaNotas():\n",
        "    #qntNotas = input('Digite a quantidade de notas que irá informar: ')\n",
        "    nota1 = float(input('Digite a nota 1: '))\n",
        "    nota2 = float(input('Digite a nota 2: '))\n",
        "    nota3 = float(input('Digite a nota 3: '))\n",
        "    nota4 = float(input('Digite a nota 4: '))\n",
        "    media = (nota1+nota2+nota3+nota4)/4\n",
        "    \n",
        "    print('')\n",
        "    print('A média das notas é ', media)\n",
        "\n",
        "mediaNotas()"
      ]
    },
    {
      "cell_type": "markdown",
      "metadata": {
        "id": "xywSSz7S6Yg6"
      },
      "source": [
        "---\n",
        "\n",
        "## Quais são as outras formas de praticar esses conceitos?\n",
        "\n",
        "<img src=\"https://media1.tenor.com/images/325243df1673b884f9a044797c1cfd00/tenor.gif\" align=\"left\">"
      ]
    },
    {
      "cell_type": "markdown",
      "metadata": {
        "id": "ILHdoRSs6Yg7"
      },
      "source": [
        "<Adicionar atividade de sua preferência para aplicação dos conceitos>"
      ]
    }
  ],
  "metadata": {
    "kernelspec": {
      "display_name": "Python 3",
      "language": "python",
      "name": "python3"
    },
    "language_info": {
      "codemirror_mode": {
        "name": "ipython",
        "version": 3
      },
      "file_extension": ".py",
      "mimetype": "text/x-python",
      "name": "python",
      "nbconvert_exporter": "python",
      "pygments_lexer": "ipython3",
      "version": "3.8.5"
    },
    "colab": {
      "provenance": []
    }
  },
  "nbformat": 4,
  "nbformat_minor": 0
}