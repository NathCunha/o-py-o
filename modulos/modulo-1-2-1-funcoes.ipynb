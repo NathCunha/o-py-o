{
  "cells": [
    {
      "cell_type": "markdown",
      "metadata": {
        "id": "TrnJ1Res6Ygq"
      },
      "source": [
        "<img src=\"https://github.com/NathCunha/o-py-o/blob/master/imagens/2.png?raw=1\">\n",
        "\n",
        "## Revisando o conteúdo da semana!"
      ]
    },
    {
      "cell_type": "markdown",
      "metadata": {
        "id": "zKxdNG3K6Ygw"
      },
      "source": [
        "Um objeto de função é um valor que pode ser atribuído a uma variável ou passado como argumento. Por exemplo, `print_contact` é uma função que recebe como parâmetro dois objetos de funções chamados `fRegister` e `fTimeRegister`.\n",
        "As funções `fRegister` e `fTimeRegister` foram feitas para imprimir os dados de um contato e imprimir a data na qual aquele contato foi cadastrado, da uma olhadinha na definição delas:"
      ]
    },
    {
      "cell_type": "code",
      "execution_count": 11,
      "metadata": {
        "id": "sYFvesDu6Ygx"
      },
      "outputs": [],
      "source": [
        "def print_contact(fRegister, fTimeRegister):\n",
        "    fRegister()\n",
        "    fTimeRegister()"
      ]
    },
    {
      "cell_type": "code",
      "execution_count": 21,
      "metadata": {
        "id": "FM6xMe8k6Ygz"
      },
      "outputs": [],
      "source": [
        "def print_register():\n",
        "    #name = input('Digite o nome do contato: ')\n",
        "    #email = input('Digite o email do contato: ')\n",
        "    #adress = input('Digite o endereço do contato: ')\n",
        "    #birthYear = input('Digite o ano de nacimento do contato: ')\n",
        "\n",
        "    print('***** Dados do contato: *****')\n",
        "    print('Nome: ', name)\n",
        "    print('Email: ', email)\n",
        "    print('Endereço: ', adress)\n",
        "    print('Ano de nascimento: ', birthYear)"
      ]
    },
    {
      "cell_type": "code",
      "execution_count": 22,
      "metadata": {
        "id": "SH8AQjQz6Yg0"
      },
      "outputs": [],
      "source": [
        "def print_update():\n",
        "    #updated = input('Digite a data de atualização: ')\n",
        "\n",
        "    print('Atualizado em: ', updated)"
      ]
    },
    {
      "cell_type": "markdown",
      "metadata": {
        "id": "jXMlkWx06Yg1"
      },
      "source": [
        "1) O que acontece se você tentar executar diretamente `print_contact()`? "
      ]
    },
    {
      "cell_type": "code",
      "execution_count": null,
      "metadata": {
        "id": "tNcHCRB66Yg1",
        "outputId": "ea93edcc-703c-4b99-d732-c1a0d75de14e",
        "colab": {
          "base_uri": "https://localhost:8080/",
          "height": 164
        }
      },
      "outputs": [
        {
          "output_type": "error",
          "ename": "TypeError",
          "evalue": "ignored",
          "traceback": [
            "\u001b[0;31m---------------------------------------------------------------------------\u001b[0m",
            "\u001b[0;31mTypeError\u001b[0m                                 Traceback (most recent call last)",
            "\u001b[0;32m<ipython-input-4-3a274d09317d>\u001b[0m in \u001b[0;36m<module>\u001b[0;34m\u001b[0m\n\u001b[0;32m----> 1\u001b[0;31m \u001b[0mprint_contact\u001b[0m\u001b[0;34m(\u001b[0m\u001b[0;34m)\u001b[0m\u001b[0;34m\u001b[0m\u001b[0;34m\u001b[0m\u001b[0m\n\u001b[0m",
            "\u001b[0;31mTypeError\u001b[0m: print_contact() missing 2 required positional arguments: 'fRegister' and 'fTimeRegister'"
          ]
        }
      ],
      "source": [
        "print_contact() #Ocorre um erro do tipo typeerror, pois essa função precisa de 2 argumentos para funcionar, 'fRegister' e 'fTimeRegister'"
      ]
    },
    {
      "cell_type": "markdown",
      "metadata": {
        "id": "8B3Xjsvc6Yg2"
      },
      "source": [
        "2) O que você precisa fazer para `print_contact` funcione corretamente?\n",
        "\n",
        "> ##### Dica: preste atenção nas mensagens de erro, elas são ótimas guias!"
      ]
    },
    {
      "cell_type": "code",
      "execution_count": 23,
      "metadata": {
        "id": "z5QMy-0X6Yg2",
        "outputId": "8df4e985-82f7-46bf-d19d-a513abda4a85",
        "colab": {
          "base_uri": "https://localhost:8080/"
        }
      },
      "outputs": [
        {
          "output_type": "stream",
          "name": "stdout",
          "text": [
            "Digite o nome do contato: Ana\n",
            "Digite o email do contato: ana@gmail.com\n",
            "Digite o endereço do contato: Rua x, n1\n",
            "Digite o ano de nacimento do contato: 1996\n",
            "Digite a data de atualização: 01/10/2022\n",
            "\n",
            "***** Dados do contato: *****\n",
            "Nome:  Ana\n",
            "Email:  ana@gmail.com\n",
            "Endereço:  Rua x, n1\n",
            "Ano de nascimento:  1996\n",
            "Atualizado em:  01/10/2022\n"
          ]
        }
      ],
      "source": [
        "#É necessário colocar 2 argumentos na função, 'fRegister' e 'fTimeRegister'.\n",
        "#Esses argumentos são funções que precisam ser declaradas.\n",
        "name = input('Digite o nome do contato: ')\n",
        "email = input('Digite o email do contato: ')\n",
        "adress = input('Digite o endereço do contato: ')\n",
        "birthYear = input('Digite o ano de nacimento do contato: ')\n",
        "updated = input('Digite a data de atualização: ')\n",
        "\n",
        "print(\"\")\n",
        "    \n",
        "print_contact(print_register,print_update)"
      ]
    },
    {
      "cell_type": "markdown",
      "metadata": {
        "id": "xY0u0oZx6Yg3"
      },
      "source": [
        "3) Faça as mudanças necessárias para imprimir a **\"Data de aniversário\"** ao invés do **\"Ano de Nascimento\"**."
      ]
    },
    {
      "cell_type": "code",
      "execution_count": 19,
      "metadata": {
        "id": "AE-ozUPb6Yg3"
      },
      "outputs": [],
      "source": [
        "#Para fazer a funçao print_register e print_update era preciso declarar as variáveis name, email, adress, birthYear e updated.\n",
        "#Como essas variáveis foram declaradas fora da função elas estão sendo declaras globalmente, dentro da função seria localmente.\n"
      ]
    },
    {
      "cell_type": "markdown",
      "metadata": {
        "id": "fgDky1kf6Yg4"
      },
      "source": [
        "Você conhece a função `input()`? Execute o código abaixo pra saber como ela funciona:\n",
        "\n",
        "> ##### Dica: depois de digitar o valor desejado tecle enter"
      ]
    },
    {
      "cell_type": "code",
      "execution_count": null,
      "metadata": {
        "id": "PG1byX7O6Yg4",
        "outputId": "bcd19381-8a83-49a5-b5d1-d76cfdc3281a",
        "colab": {
          "base_uri": "https://localhost:8080/"
        }
      },
      "outputs": [
        {
          "output_type": "stream",
          "name": "stdout",
          "text": [
            "Entre com o 1º valor: 1\n",
            "Entre com o 2º valor: 2\n",
            "A soma é 3\n"
          ]
        }
      ],
      "source": [
        "num1 = input('Entre com o 1º valor: ')\n",
        "\n",
        "num2 = input('Entre com o 2º valor: ')\n",
        "\n",
        "soma = int(num1) + int(num2)\n",
        "\n",
        "print(\"A soma é\", soma)"
      ]
    },
    {
      "cell_type": "markdown",
      "metadata": {
        "id": "jg0a_mkq6Yg5"
      },
      "source": [
        "> ##### Saiba mais sobre `input()` no tutorial [Função input e print no Python: Entrada e Saída de dados](https://pythonacademy.com.br/blog/input-e-print-entrada-e-saida-de-dados-no-python)"
      ]
    },
    {
      "cell_type": "markdown",
      "metadata": {
        "id": "GfZYHyEz6Yg5"
      },
      "source": [
        "4) Agora que você ja sabe como `input()` funciona, faça uma função que solicite 4 notas e mostre a média."
      ]
    },
    {
      "cell_type": "code",
      "execution_count": 18,
      "metadata": {
        "id": "V-I7ZpfE6Yg6",
        "outputId": "64c11c56-e663-48cc-bc67-973f8d6935a3",
        "colab": {
          "base_uri": "https://localhost:8080/"
        }
      },
      "outputs": [
        {
          "output_type": "stream",
          "name": "stdout",
          "text": [
            "Digite a nota 1: 2\n",
            "Digite a nota 2: 8\n",
            "Digite a nota 3: 9\n",
            "Digite a nota 4: 10\n",
            "\n",
            "A média das notas é  7.25\n"
          ]
        }
      ],
      "source": [
        "def mediaNotas():\n",
        "    #qntNotas = input('Digite a quantidade de notas que irá informar: ')\n",
        "    nota1 = float(input('Digite a nota 1: '))\n",
        "    nota2 = float(input('Digite a nota 2: '))\n",
        "    nota3 = float(input('Digite a nota 3: '))\n",
        "    nota4 = float(input('Digite a nota 4: '))\n",
        "    media = (nota1+nota2+nota3+nota4)/4\n",
        "    \n",
        "    print('')\n",
        "    print('A média das notas é ', media)\n",
        "\n",
        "mediaNotas()"
      ]
    },
    {
      "cell_type": "markdown",
      "metadata": {
        "id": "xywSSz7S6Yg6"
      },
      "source": [
        "---\n",
        "\n",
        "## Quais são as outras formas de praticar esses conceitos?\n",
        "\n",
        "<img src=\"https://media1.tenor.com/images/325243df1673b884f9a044797c1cfd00/tenor.gif\" align=\"left\">"
      ]
    },
    {
      "cell_type": "markdown",
      "metadata": {
        "id": "ILHdoRSs6Yg7"
      },
      "source": [
        "<Adicionar atividade de sua preferência para aplicação dos conceitos>"
      ]
    }
  ],
  "metadata": {
    "kernelspec": {
      "display_name": "Python 3",
      "language": "python",
      "name": "python3"
    },
    "language_info": {
      "codemirror_mode": {
        "name": "ipython",
        "version": 3
      },
      "file_extension": ".py",
      "mimetype": "text/x-python",
      "name": "python",
      "nbconvert_exporter": "python",
      "pygments_lexer": "ipython3",
      "version": "3.8.5"
    },
    "colab": {
      "provenance": []
    }
  },
  "nbformat": 4,
  "nbformat_minor": 0
}